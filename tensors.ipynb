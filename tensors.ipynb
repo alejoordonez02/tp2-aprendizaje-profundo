{
 "cells": [
  {
   "cell_type": "code",
   "execution_count": 58,
   "metadata": {},
   "outputs": [],
   "source": [
    "import numpy as np"
   ]
  },
  {
   "cell_type": "code",
   "execution_count": 59,
   "metadata": {},
   "outputs": [
    {
     "name": "stdout",
     "output_type": "stream",
     "text": [
      "[[ 1.34608416  0.1538049  -0.21835065]\n",
      " [-1.93980392 -1.31842616 -0.09272978]]\n",
      "[[[0.76774287 0.2681462 ]\n",
      "  [0.28411139 0.14060502]]\n",
      "\n",
      " [[0.40629403 0.3703968 ]\n",
      "  [0.44373518 0.74521981]]\n",
      "\n",
      " [[0.71493287 0.51255382]\n",
      "  [0.38651943 0.26748016]]]\n"
     ]
    }
   ],
   "source": [
    "A = np.random.randn(2,3)\n",
    "B = np.random.rand(3,2,2)\n",
    "print(A)\n",
    "print(B)"
   ]
  },
  {
   "cell_type": "code",
   "execution_count": 60,
   "metadata": {},
   "outputs": [
    {
     "name": "stdout",
     "output_type": "stream",
     "text": [
      "0.5132954752774531\n",
      "0.10969167782059874\n",
      "-0.4258508195544578\n",
      "-0.9142686491944482\n"
     ]
    }
   ],
   "source": [
    "# la primera columna de A son las entradas así que arranco computando de la segunda columna en adelante\n",
    "# primer activación de la capa 2 (1 si arranco a contar en 0, de ahora en más empiezo a contar en 0)\n",
    "print(B[0][0] @ A[:,0])\n",
    "# segunda activaciónd la capa 1 (desde 0 xd)\n",
    "print(B[0][1] @ A[:,0])\n",
    "# primer activación de la capa 2\n",
    "print(B[1][0] @ A[:,1]) \n",
    "# segunda activación de la capa 2\n",
    "print(B[1][1] @ A[:,1]) "
   ]
  },
  {
   "cell_type": "code",
   "execution_count": 61,
   "metadata": {},
   "outputs": [
    {
     "name": "stdout",
     "output_type": "stream",
     "text": [
      "[0.51329548 0.10969168]\n",
      "[-0.42585082 -0.91426865]\n"
     ]
    }
   ],
   "source": [
    "# qué pasa si multiplico más \"generalmente\"?\n",
    "print(B[0] @ A[:,0])\n",
    "print(B[1] @ A[:,1])\n",
    "# estas serían las columnas de A izquierda a derecha -> arriba a abajo element-wise y arriba abajo -> izquierda a derecha column-wise"
   ]
  },
  {
   "cell_type": "code",
   "execution_count": null,
   "metadata": {},
   "outputs": [
    {
     "name": "stdout",
     "output_type": "stream",
     "text": [
      "[[[ 0.51329548 -0.23544834]\n",
      "  [ 0.10969168 -0.14167961]]\n",
      "\n",
      " [[-0.17159121 -0.42585082]\n",
      "  [-0.84827541 -0.91426865]]]\n"
     ]
    }
   ],
   "source": [
    "print(B[0:2] @ A[:,0:2])\n",
    "# esto me está multiplicando de más..."
   ]
  },
  {
   "cell_type": "code",
   "execution_count": null,
   "metadata": {},
   "outputs": [],
   "source": [
    "L=3\n",
    "N=2\n",
    "\n",
    "for l in range(L):\n",
    "    for n in range(N):\n",
    "        A[l][n] = np.mathmul(M[l][n],A[:,l-1])"
   ]
  }
 ],
 "metadata": {
  "kernelspec": {
   "display_name": "Python 3",
   "language": "python",
   "name": "python3"
  },
  "language_info": {
   "codemirror_mode": {
    "name": "ipython",
    "version": 3
   },
   "file_extension": ".py",
   "mimetype": "text/x-python",
   "name": "python",
   "nbconvert_exporter": "python",
   "pygments_lexer": "ipython3",
   "version": "3.12.7"
  }
 },
 "nbformat": 4,
 "nbformat_minor": 2
}
